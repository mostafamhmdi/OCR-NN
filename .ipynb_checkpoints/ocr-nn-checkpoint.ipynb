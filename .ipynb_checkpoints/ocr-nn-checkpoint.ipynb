{
 "cells": [
  {
   "cell_type": "code",
   "execution_count": null,
   "id": "9061c768",
   "metadata": {
    "_cell_guid": "b1076dfc-b9ad-4769-8c92-a6c4dae69d19",
    "_uuid": "8f2839f25d086af736a60e9eeb907d3b93b6e0e5",
    "execution": {
     "iopub.execute_input": "2023-11-23T09:26:36.620133Z",
     "iopub.status.busy": "2023-11-23T09:26:36.619777Z",
     "iopub.status.idle": "2023-11-23T09:26:47.996757Z",
     "shell.execute_reply": "2023-11-23T09:26:47.995967Z"
    },
    "papermill": {
     "duration": 11.38241,
     "end_time": "2023-11-23T09:26:47.999001",
     "exception": false,
     "start_time": "2023-11-23T09:26:36.616591",
     "status": "completed"
    },
    "tags": []
   },
   "outputs": [],
   "source": [
    "import pandas as pd\n",
    "import numpy as np\n",
    "import matplotlib.pyplot as plt\n",
    "import cv2 as cv2\n",
    "import tensorflow as tf\n",
    "import os\n",
    "import warnings\n",
    "warnings.filterwarnings('ignore')\n",
    "from torch.utils.data import Dataset, DataLoader\n",
    "from random import randint\n",
    "from keras.preprocessing.image import ImageDataGenerator\n",
    "# from imgaug import augmenters as iaa\n",
    "import os\n",
    "import torch\n",
    "import pandas as pd\n",
    "from skimage import io, transform\n",
    "import numpy as np\n",
    "import seaborn as sns\n",
    "sns.set()\n",
    "sns.set_style('dark')\n",
    "import matplotlib.pyplot as plt\n",
    "from torch.utils.data import Dataset, DataLoader\n",
    "from torchvision import transforms, utils\n",
    "import torchvision\n",
    "from random import randint"
   ]
  },
  {
   "cell_type": "code",
   "execution_count": null,
   "id": "c40556ba",
   "metadata": {
    "papermill": {
     "duration": 0.001334,
     "end_time": "2023-11-23T09:26:48.002298",
     "exception": false,
     "start_time": "2023-11-23T09:26:48.000964",
     "status": "completed"
    },
    "tags": []
   },
   "outputs": [],
   "source": [
    "img_width = 100\n",
    "img_height = 50\n",
    "img_splits = 20\n",
    "word_max_len = 15"
   ]
  },
  {
   "cell_type": "code",
   "execution_count": null,
   "id": "8f9a943e",
   "metadata": {},
   "outputs": [],
   "source": [
    "dataset_path = 'D:/archive (9)/Shotor_Images/Shotor_Images'\n",
    "csv_words_path = '/kaggle/input/persianocrdataset/Shotor_Words.csv'"
   ]
  }
 ],
 "metadata": {
  "kaggle": {
   "accelerator": "gpu",
   "dataSources": [],
   "dockerImageVersionId": 30588,
   "isGpuEnabled": true,
   "isInternetEnabled": true,
   "language": "python",
   "sourceType": "notebook"
  },
  "kernelspec": {
   "display_name": "Python 3 (ipykernel)",
   "language": "python",
   "name": "python3"
  },
  "language_info": {
   "codemirror_mode": {
    "name": "ipython",
    "version": 3
   },
   "file_extension": ".py",
   "mimetype": "text/x-python",
   "name": "python",
   "nbconvert_exporter": "python",
   "pygments_lexer": "ipython3",
   "version": "3.10.7"
  },
  "papermill": {
   "default_parameters": {},
   "duration": 16.056121,
   "end_time": "2023-11-23T09:26:49.426293",
   "environment_variables": {},
   "exception": null,
   "input_path": "__notebook__.ipynb",
   "output_path": "__notebook__.ipynb",
   "parameters": {},
   "start_time": "2023-11-23T09:26:33.370172",
   "version": "2.4.0"
  }
 },
 "nbformat": 4,
 "nbformat_minor": 5
}
